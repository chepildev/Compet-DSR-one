{
 "cells": [
  {
   "cell_type": "code",
   "execution_count": 70,
   "id": "535e10bf",
   "metadata": {},
   "outputs": [],
   "source": [
    "import pandas as pd\n",
    "import plotly.express as px\n",
    "import plotly.graph_objects as go\n",
    "from plotly.subplots import make_subplots\n",
    "from plotly.colors import n_colors, hex_to_rgb\n",
    "import plotly.io as pio\n",
    "pio.renderers.default = \"browser\"\n",
    "import os"
   ]
  },
  {
   "cell_type": "code",
   "execution_count": 10,
   "id": "c68ea8a6",
   "metadata": {},
   "outputs": [
    {
     "data": {
      "text/plain": [
       "'C:\\\\Users\\\\justi\\\\GitHub\\\\Compet-DSR-one\\\\notebooks'"
      ]
     },
     "execution_count": 10,
     "metadata": {},
     "output_type": "execute_result"
    }
   ],
   "source": [
    "os.getcwd()"
   ]
  },
  {
   "cell_type": "code",
   "execution_count": 35,
   "id": "7ffbef57",
   "metadata": {},
   "outputs": [],
   "source": [
    "features_train = pd.read_csv('../data/dengue_features_train.csv')\n",
    "labels_train = pd.read_csv('../data/dengue_labels_train.csv')\n",
    "features_test = pd.read_csv('../data/dengue_features_test.csv')\n",
    "features_train.loc[:, \"total_cases\"] = labels_train.loc[:, \"total_cases\"]"
   ]
  },
  {
   "cell_type": "code",
   "execution_count": 36,
   "id": "85618e23",
   "metadata": {},
   "outputs": [],
   "source": [
    "features_train.set_index(\"week_start_date\", inplace=True)"
   ]
  },
  {
   "cell_type": "code",
   "execution_count": 37,
   "id": "f5e11bb5",
   "metadata": {},
   "outputs": [
    {
     "data": {
      "text/html": [
       "<div>\n",
       "<style scoped>\n",
       "    .dataframe tbody tr th:only-of-type {\n",
       "        vertical-align: middle;\n",
       "    }\n",
       "\n",
       "    .dataframe tbody tr th {\n",
       "        vertical-align: top;\n",
       "    }\n",
       "\n",
       "    .dataframe thead th {\n",
       "        text-align: right;\n",
       "    }\n",
       "</style>\n",
       "<table border=\"1\" class=\"dataframe\">\n",
       "  <thead>\n",
       "    <tr style=\"text-align: right;\">\n",
       "      <th></th>\n",
       "      <th>city</th>\n",
       "      <th>year</th>\n",
       "      <th>weekofyear</th>\n",
       "      <th>total_cases</th>\n",
       "    </tr>\n",
       "  </thead>\n",
       "  <tbody>\n",
       "    <tr>\n",
       "      <th>0</th>\n",
       "      <td>sj</td>\n",
       "      <td>1990</td>\n",
       "      <td>18</td>\n",
       "      <td>4</td>\n",
       "    </tr>\n",
       "    <tr>\n",
       "      <th>1</th>\n",
       "      <td>sj</td>\n",
       "      <td>1990</td>\n",
       "      <td>19</td>\n",
       "      <td>5</td>\n",
       "    </tr>\n",
       "    <tr>\n",
       "      <th>2</th>\n",
       "      <td>sj</td>\n",
       "      <td>1990</td>\n",
       "      <td>20</td>\n",
       "      <td>4</td>\n",
       "    </tr>\n",
       "    <tr>\n",
       "      <th>3</th>\n",
       "      <td>sj</td>\n",
       "      <td>1990</td>\n",
       "      <td>21</td>\n",
       "      <td>3</td>\n",
       "    </tr>\n",
       "    <tr>\n",
       "      <th>4</th>\n",
       "      <td>sj</td>\n",
       "      <td>1990</td>\n",
       "      <td>22</td>\n",
       "      <td>6</td>\n",
       "    </tr>\n",
       "    <tr>\n",
       "      <th>...</th>\n",
       "      <td>...</td>\n",
       "      <td>...</td>\n",
       "      <td>...</td>\n",
       "      <td>...</td>\n",
       "    </tr>\n",
       "    <tr>\n",
       "      <th>1451</th>\n",
       "      <td>iq</td>\n",
       "      <td>2010</td>\n",
       "      <td>21</td>\n",
       "      <td>5</td>\n",
       "    </tr>\n",
       "    <tr>\n",
       "      <th>1452</th>\n",
       "      <td>iq</td>\n",
       "      <td>2010</td>\n",
       "      <td>22</td>\n",
       "      <td>8</td>\n",
       "    </tr>\n",
       "    <tr>\n",
       "      <th>1453</th>\n",
       "      <td>iq</td>\n",
       "      <td>2010</td>\n",
       "      <td>23</td>\n",
       "      <td>1</td>\n",
       "    </tr>\n",
       "    <tr>\n",
       "      <th>1454</th>\n",
       "      <td>iq</td>\n",
       "      <td>2010</td>\n",
       "      <td>24</td>\n",
       "      <td>1</td>\n",
       "    </tr>\n",
       "    <tr>\n",
       "      <th>1455</th>\n",
       "      <td>iq</td>\n",
       "      <td>2010</td>\n",
       "      <td>25</td>\n",
       "      <td>4</td>\n",
       "    </tr>\n",
       "  </tbody>\n",
       "</table>\n",
       "<p>1456 rows × 4 columns</p>\n",
       "</div>"
      ],
      "text/plain": [
       "     city  year  weekofyear  total_cases\n",
       "0      sj  1990          18            4\n",
       "1      sj  1990          19            5\n",
       "2      sj  1990          20            4\n",
       "3      sj  1990          21            3\n",
       "4      sj  1990          22            6\n",
       "...   ...   ...         ...          ...\n",
       "1451   iq  2010          21            5\n",
       "1452   iq  2010          22            8\n",
       "1453   iq  2010          23            1\n",
       "1454   iq  2010          24            1\n",
       "1455   iq  2010          25            4\n",
       "\n",
       "[1456 rows x 4 columns]"
      ]
     },
     "execution_count": 37,
     "metadata": {},
     "output_type": "execute_result"
    }
   ],
   "source": [
    "labels_train"
   ]
  },
  {
   "cell_type": "code",
   "execution_count": 45,
   "id": "c128c00e",
   "metadata": {},
   "outputs": [
    {
     "name": "stdout",
     "output_type": "stream",
     "text": [
      "(936, 21) (520, 21)\n"
     ]
    }
   ],
   "source": [
    "sj = features_train.loc[features_train.loc[:,\"city\"]==\"sj\"].drop([\"city\", \"year\", \"weekofyear\"], axis=1)\n",
    "iq = features_train.loc[features_train.loc[:,\"city\"]==\"iq\"].drop([\"city\", \"year\", \"weekofyear\"], axis=1)\n",
    "print(sj.shape, iq.shape)"
   ]
  },
  {
   "cell_type": "code",
   "execution_count": 89,
   "id": "4433c18c",
   "metadata": {},
   "outputs": [],
   "source": [
    "fig = make_subplots(rows=2, cols=1, shared_xaxes=True, subplot_titles = [\"San Juan\", \"Iquitos\"], vertical_spacing=0.02)\n",
    "colors = ['#1f77b4', '#ff7f0e', '#2ca02c', '#d62728', '#9467bd',\n",
    "          '#8c564b', '#e377c2', '#7f7f7f', '#bcbd22', '#17becf', \n",
    "          '#1f77b4', '#ff7f0e', '#2ca02c', '#d62728', '#9467bd', \n",
    "          '#8c564b', '#e377c2', '#7f7f7f', '#bcbd22', '#17becf', '#00cc99']\n",
    "\n",
    "\n",
    "\n",
    "for i, c in enumerate(sj.columns):\n",
    "    fig.add_trace(go.Scatter(x=sj.index, \n",
    "                             y=sj.loc[:,c],\n",
    "                             mode='lines', # 'lines' or 'markers'\n",
    "                             name=c,\n",
    "                             line_color=colors[i],\n",
    "                             legendgroup=f'group{i}',\n",
    "                             showlegend=False,),\n",
    "                  \n",
    "                  row=1, col=1)\n",
    "\n",
    "for i, c in enumerate(iq.columns):\n",
    "    fig.add_trace(go.Scatter(x=iq.index, \n",
    "                             y=iq.loc[:,c],\n",
    "                             mode='lines', # 'lines' or 'markers'\n",
    "                             line_color=colors[i],\n",
    "                             legendgroup=f'group{i}',\n",
    "                             name=c),\n",
    "                 row=2, col=1)\n",
    "fig.show()"
   ]
  },
  {
   "cell_type": "code",
   "execution_count": 67,
   "id": "e584d3a0",
   "metadata": {},
   "outputs": [
    {
     "name": "stdout",
     "output_type": "stream",
     "text": [
      "['#0d0887', '#46039f', '#7201a8', '#9c179e', '#bd3786', '#d8576b', '#ed7953', '#fb9f3a', '#fdca26', '#f0f921']\n"
     ]
    }
   ],
   "source": [
    "print(px.colors.sequential.Plasma)\n"
   ]
  },
  {
   "cell_type": "code",
   "execution_count": 75,
   "id": "f39425d9",
   "metadata": {},
   "outputs": [
    {
     "data": {
      "text/plain": [
       "['rgb(13.0, 8.0, 135.0)',\n",
       " 'rgb(24.35, 20.05, 129.9)',\n",
       " 'rgb(35.7, 32.1, 124.8)',\n",
       " 'rgb(47.05, 44.150000000000006, 119.7)',\n",
       " 'rgb(58.4, 56.2, 114.6)',\n",
       " 'rgb(69.75, 68.25, 109.5)',\n",
       " 'rgb(81.1, 80.30000000000001, 104.4)',\n",
       " 'rgb(92.45, 92.35000000000001, 99.30000000000001)',\n",
       " 'rgb(103.8, 104.4, 94.2)',\n",
       " 'rgb(115.14999999999999, 116.45, 89.1)',\n",
       " 'rgb(126.5, 128.5, 84.0)',\n",
       " 'rgb(137.85, 140.55, 78.9)',\n",
       " 'rgb(149.2, 152.60000000000002, 73.80000000000001)',\n",
       " 'rgb(160.54999999999998, 164.65, 68.7)',\n",
       " 'rgb(171.9, 176.70000000000002, 63.60000000000001)',\n",
       " 'rgb(183.25, 188.75, 58.5)',\n",
       " 'rgb(194.6, 200.8, 53.400000000000006)',\n",
       " 'rgb(205.95, 212.85000000000002, 48.30000000000001)',\n",
       " 'rgb(217.29999999999998, 224.9, 43.2)',\n",
       " 'rgb(228.65, 236.95000000000002, 38.10000000000001)',\n",
       " 'rgb(240.0, 249.0, 33.0)']"
      ]
     },
     "execution_count": 75,
     "metadata": {},
     "output_type": "execute_result"
    }
   ],
   "source": [
    "[\"rgb\"+str(i) for i in n_colors(hex_to_rgb('#0d0887'), hex_to_rgb('#f0f921'), 21)]"
   ]
  },
  {
   "cell_type": "code",
   "execution_count": 88,
   "id": "7bf0d756",
   "metadata": {},
   "outputs": [],
   "source": [
    "import typing\n"
   ]
  },
  {
   "cell_type": "code",
   "execution_count": null,
   "id": "e656b435",
   "metadata": {},
   "outputs": [],
   "source": []
  }
 ],
 "metadata": {
  "kernelspec": {
   "display_name": "dengAI",
   "language": "python",
   "name": "dengai"
  },
  "language_info": {
   "codemirror_mode": {
    "name": "ipython",
    "version": 3
   },
   "file_extension": ".py",
   "mimetype": "text/x-python",
   "name": "python",
   "nbconvert_exporter": "python",
   "pygments_lexer": "ipython3",
   "version": "3.10.11"
  }
 },
 "nbformat": 4,
 "nbformat_minor": 5
}
