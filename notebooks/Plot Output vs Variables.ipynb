{
 "cells": [
  {
   "cell_type": "code",
   "execution_count": 1,
   "id": "535e10bf",
   "metadata": {},
   "outputs": [],
   "source": [
    "import pandas as pd\n",
    "import plotly.express as px\n",
    "import plotly.graph_objects as go\n",
    "from plotly.subplots import make_subplots\n",
    "#from plotly.colors import n_colors, hex_to_rgb\n",
    "import plotly.io as pio\n",
    "pio.renderers.default = \"browser\"\n",
    "import os"
   ]
  },
  {
   "cell_type": "code",
   "execution_count": 2,
   "id": "2f29f641",
   "metadata": {},
   "outputs": [
    {
     "data": {
      "text/plain": [
       "'C:\\\\Users\\\\justi\\\\GitHub\\\\Compet-DSR-one\\\\notebooks'"
      ]
     },
     "execution_count": 2,
     "metadata": {},
     "output_type": "execute_result"
    }
   ],
   "source": [
    "os.getcwd()"
   ]
  },
  {
   "cell_type": "code",
   "execution_count": 3,
   "id": "1a7396b8",
   "metadata": {},
   "outputs": [],
   "source": [
    "features_train = pd.read_csv('../data/dengue_features_train.csv')\n",
    "labels_train = pd.read_csv('../data/dengue_labels_train.csv')\n",
    "features_test = pd.read_csv('../data/dengue_features_test.csv')\n",
    "features_train.loc[:, \"total_cases\"] = labels_train.loc[:, \"total_cases\"]"
   ]
  },
  {
   "cell_type": "code",
   "execution_count": 4,
   "id": "bdae722c",
   "metadata": {},
   "outputs": [],
   "source": [
    "# Set week_start_date as index \n",
    "features_train.set_index(\"week_start_date\", inplace=True)\n",
    "\n",
    "# Split by city and drop the columns city, year and week of year\n",
    "sj = features_train.loc[features_train.loc[:,\"city\"]==\"sj\"].drop([\"city\", \"year\", \"weekofyear\"], axis=1)\n",
    "iq = features_train.loc[features_train.loc[:,\"city\"]==\"iq\"].drop([\"city\", \"year\", \"weekofyear\"], axis=1)"
   ]
  },
  {
   "cell_type": "code",
   "execution_count": 5,
   "id": "8bd0cfe4",
   "metadata": {},
   "outputs": [],
   "source": [
    "fig = make_subplots(rows=2, cols=1, shared_xaxes=True, subplot_titles = [\"San Juan\", \"Iquitos\"], \n",
    "                    vertical_spacing=0.02)\n",
    "colors = ['#1f77b4', '#ff7f0e', '#2ca02c', '#d62728', '#9467bd',\n",
    "          '#8c564b', '#e377c2', '#7f7f7f', '#bcbd22', '#17becf', \n",
    "          '#1f77b4', '#ff7f0e', '#2ca02c', '#d62728', '#9467bd', \n",
    "          '#8c564b', '#e377c2', '#7f7f7f', '#bcbd22', '#17becf', '#00cc99']\n",
    "\n",
    "for i, c in enumerate(sj.columns):\n",
    "    fig.add_trace(go.Scatter(x=sj.index, \n",
    "                             y=sj.loc[:,c],\n",
    "                             mode='lines', # 'lines' or 'markers'\n",
    "                             name=c,\n",
    "                             line_color=colors[i],\n",
    "                             legendgroup=f'group{i}',\n",
    "                             showlegend=False,),\n",
    "                  \n",
    "                  row=1, col=1)\n",
    "\n",
    "for i, c in enumerate(iq.columns):\n",
    "    fig.add_trace(go.Scatter(x=iq.index, \n",
    "                             y=iq.loc[:,c],\n",
    "                             mode='lines', # 'lines' or 'markers'\n",
    "                             line_color=colors[i],\n",
    "                             legendgroup=f'group{i}',\n",
    "                             name=c),\n",
    "                 row=2, col=1)\n",
    "fig.show()"
   ]
  },
  {
   "cell_type": "code",
   "execution_count": null,
   "id": "41b03085",
   "metadata": {},
   "outputs": [],
   "source": []
  }
 ],
 "metadata": {
  "kernelspec": {
   "display_name": "dengAI",
   "language": "python",
   "name": "dengai"
  },
  "language_info": {
   "codemirror_mode": {
    "name": "ipython",
    "version": 3
   },
   "file_extension": ".py",
   "mimetype": "text/x-python",
   "name": "python",
   "nbconvert_exporter": "python",
   "pygments_lexer": "ipython3",
   "version": "3.10.11"
  }
 },
 "nbformat": 4,
 "nbformat_minor": 5
}
